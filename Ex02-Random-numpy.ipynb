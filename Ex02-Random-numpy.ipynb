{
 "cells": [
  {
   "cell_type": "code",
   "execution_count": 3,
   "id": "13c42f16",
   "metadata": {},
   "outputs": [
    {
     "name": "stdout",
     "output_type": "stream",
     "text": [
      "Please enter your number: 5\n",
      "Array : [29  6 54 17 27]\n",
      "Max : 54\n",
      "Fail\n"
     ]
    }
   ],
   "source": [
    "# ================ imports =========================\n",
    "import numpy as np\n",
    "\n",
    "# ================ User input ======================\n",
    "num = int(input(\"Please enter your number: \"))\n",
    "\n",
    "# ================ Making Random Array =============\n",
    "array = np.random.randint(0, 100 , size = num)\n",
    "print ('Array :', array)\n",
    "\n",
    "# ================ Calculating Maximum =============\n",
    "array_max = np.max(array)\n",
    "print ('Max :', array_max)\n",
    "\n",
    "# ================ Win / Fail ======================\n",
    "if array_max > 70 :\n",
    "    print (\"Win\")\n",
    "else:\n",
    "    print (\"Fail\")"
   ]
  }
 ],
 "metadata": {
  "kernelspec": {
   "display_name": "Python 3 (ipykernel)",
   "language": "python",
   "name": "python3"
  },
  "language_info": {
   "codemirror_mode": {
    "name": "ipython",
    "version": 3
   },
   "file_extension": ".py",
   "mimetype": "text/x-python",
   "name": "python",
   "nbconvert_exporter": "python",
   "pygments_lexer": "ipython3",
   "version": "3.10.9"
  }
 },
 "nbformat": 4,
 "nbformat_minor": 5
}
